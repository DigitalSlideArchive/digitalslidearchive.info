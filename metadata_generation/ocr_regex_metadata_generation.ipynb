{
 "cells": [
  {
   "cell_type": "markdown",
   "metadata": {},
   "source": [
    "### Generating metadata from slide labels.\n",
    "*Last updated: 1 Oct. 2018*\n",
    "\n",
    "Tissue is usually set in a glass slide that is scanned to generate our histopathology images. Accompanying each glass slide is a printed label, which contains relevant metadata for the slide (e.g. stain type or id of the subject). We develop a computational means to obtain the metadata from images of the slide label and store them on the digital image file on a DSA server.\n",
    "\n",
    "Key words: optical character recognition (ocr), regular expression (regex), digital slide archive (dsa)"
   ]
  },
  {
   "cell_type": "code",
   "execution_count": 1,
   "metadata": {},
   "outputs": [],
   "source": [
    "# Dependencies\n",
    "import girder_tools as gt\n",
    "import pytesseract\n",
    "import re"
   ]
  },
  {
   "cell_type": "code",
   "execution_count": 2,
   "metadata": {},
   "outputs": [
    {
     "name": "stdout",
     "output_type": "stream",
     "text": [
      "Login or email: admin\n",
      "Password for admin: ········\n"
     ]
    }
   ],
   "source": [
    "# Inputs\n",
    "API_URL = 'http://computablebrain.emory.edu:8080/api/v1'\n",
    "collection_name = \"FOX_DATA\"\n",
    "tags = ['BrainID', 'Column','Hemi','Section','Stain','StainDate']\n",
    "regex_str = '.*?(?P<BrainID>FOX\\d{1,2}[A-Z])? ?' + \\\n",
    "    '(?P<Hemi>(LH MID|LH FRONTAL|LH FRONT|LH POST FRONTAL|CAUDAL|LH MISC|MISC|LH CAUDAL|LH))? ?' + \\\n",
    "    'COL (?P<Column>\\d{1,2}) S (?P<Section>\\d{1,3}) ' + \\\n",
    "    '(?P<Stain>(SILVER|NISSL|1:20K AVP|OXT 1:5000)) ' + \\\n",
    "    '(?P<StainDate>(\\d{1,2}/\\d{1,2}/\\d{1,2}|\\d{1,2}/\\d{1,2}))'\n",
    "override = False\n",
    "\n",
    "# Initiate variables.\n",
    "gc = gt.login(API_URL, private=True)\n",
    "items = gt.collection_items(gc, collection_name, limit=5000)\n",
    "re_compile = re.compile(regex_str)"
   ]
  },
  {
   "cell_type": "code",
   "execution_count": 3,
   "metadata": {
    "scrolled": true
   },
   "outputs": [],
   "source": [
    "# Local functions.\n",
    "def _ocr_clean(raw_string):\n",
    "    # Remove non alpha-numeric character (backslash is an exception).\n",
    "    # Replaces multiple white spaces and new line characters with single space.\n",
    "    clean_string = re.sub(r'[^A-Za-z\\d//:\\s]+', '', raw_string)\n",
    "    clean_string = re.sub(r'\\n', ' ', clean_string)\n",
    "    clean_string = re.sub('\\s{2,}', ' ', clean_string)\n",
    "    return clean_string\n",
    "\n",
    "def _run_regex(string_input):\n",
    "    print(string_input)\n",
    "    \n",
    "def _clean_m(dict_input, tags):\n",
    "    dict_output = {}\n",
    "    for t in tags:\n",
    "        if dict_input[t] is None:\n",
    "            dict_output[t] = ''\n",
    "        else:\n",
    "            dict_output[t] = dict_input[t]\n",
    "    return dict_output"
   ]
  },
  {
   "cell_type": "code",
   "execution_count": 4,
   "metadata": {},
   "outputs": [
    {
     "name": "stdout",
     "output_type": "stream",
     "text": [
      "Skipping id: 5bad1700e62914001aa13fa5, due to no valid image\n",
      "Skipping id: 5bad1730e62914001aa140a5, due to no valid image\n",
      "Skipping id: 5bad173be62914001aa140e1, due to no valid image\n",
      "Skipping id: 5bad173be62914001aa140e3, due to no valid image\n",
      "Skipping id: 5bad173be62914001aa140e5, due to no valid image\n",
      "Skipping id: 5bad173be62914001aa140e7, due to no valid image\n",
      "Skipping id: 5bad173be62914001aa140e9, due to no valid image\n",
      "Skipping id: 5bad173ce62914001aa140eb, due to no valid image\n",
      "Skipping id: 5bad173ce62914001aa140ed, due to no valid image\n",
      "Skipping id: 5bad173ce62914001aa140ef, due to no valid image\n",
      "Skipping id: 5bad173ce62914001aa140f1, due to no valid image\n",
      "Skipping id: 5bad173ce62914001aa140f3, due to no valid image\n",
      "Skipping id: 5bad173ce62914001aa140f5, due to no valid image\n",
      "Skipping id: 5bad173ce62914001aa140f7, due to no valid image\n",
      "Skipping id: 5bad173ce62914001aa140f9, due to no valid image\n",
      "Skipping id: 5bad173ce62914001aa140fb, due to no valid image\n",
      "Skipping id: 5bad173ce62914001aa140fd, due to no valid image\n",
      "Skipping id: 5bad173ce62914001aa140ff, due to no valid image\n",
      "Skipping id: 5bad173ce62914001aa14101, due to no valid image\n",
      "Skipping id: 5bad173ce62914001aa14103, due to no valid image\n",
      "Skipping id: 5bad173ce62914001aa14105, due to no valid image\n"
     ]
    }
   ],
   "source": [
    "# Loop that reads, cleans, and pushes the metadata.\n",
    "for i in items:\n",
    "    # If 'meta' not in item, then there is not metadata.\n",
    "    # If there is at least one tag missing or empty.\n",
    "    if 'meta' not in i or any(t not in i['meta'] or i['meta'][t] == '' for t in tags):\n",
    "        try:\n",
    "            image = gt.get_label_image(gc, i['_id'])\n",
    "            raw_output = pytesseract.image_to_string(image)\n",
    "            clean_output = _ocr_clean(raw_output).upper()\n",
    "            m = re_compile.search(clean_output)\n",
    "            if m:\n",
    "                # If regex is good, add tags that are either not already present\n",
    "                # or are empty.\n",
    "                m = m.groupdict()\n",
    "                m = _clean_m(m, tags)\n",
    "                if 'meta' not in i:\n",
    "                    gc.addMetadataToItem(i['_id'], m)\n",
    "                else:\n",
    "                    new_metadata = {}\n",
    "                    for t in tags:\n",
    "                        if t not in i['meta'] or i['meta'][t] == '' or override:\n",
    "                            new_metadata[t] = m[t]\n",
    "                    gc.addMetadataToItem(i['_id'], new_metadata)\n",
    "            else:\n",
    "                print(\"Skipping id: %s, because of failed regex\" % i['_id'])\n",
    "                pass\n",
    "        except:\n",
    "            print(\"Skipping id: %s, due to no valid image\" % i['_id'])\n",
    "            continue"
   ]
  },
  {
   "cell_type": "markdown",
   "metadata": {},
   "source": [
    "Code kept for reference but does not need to be used anymore."
   ]
  },
  {
   "cell_type": "code",
   "execution_count": null,
   "metadata": {},
   "outputs": [],
   "source": [
    "# Copy over groups metadata tag to individual tags under meta.\n",
    "# for i in items:\n",
    "#     if 'meta' in i and 'groups' in i['meta']:\n",
    "#         groups = i['meta']['groups']\n",
    "#         for k, v in groups.items():\n",
    "#             if v is None:\n",
    "#                 groups[k] = ''\n",
    "#             else:\n",
    "#                 groups[k] = re.sub(r'\\s{2,}', '', v.upper().strip())  \n",
    "#         gc.addMetadataToItem(i['_id'], groups)"
   ]
  }
 ],
 "metadata": {
  "kernelspec": {
   "display_name": "Python [conda root]",
   "language": "python",
   "name": "conda-root-py"
  },
  "language_info": {
   "codemirror_mode": {
    "name": "ipython",
    "version": 3
   },
   "file_extension": ".py",
   "mimetype": "text/x-python",
   "name": "python",
   "nbconvert_exporter": "python",
   "pygments_lexer": "ipython3",
   "version": "3.6.3"
  }
 },
 "nbformat": 4,
 "nbformat_minor": 2
}
