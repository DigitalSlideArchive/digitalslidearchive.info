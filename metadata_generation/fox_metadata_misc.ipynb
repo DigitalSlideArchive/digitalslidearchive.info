{
 "cells": [
  {
   "cell_type": "markdown",
   "metadata": {},
   "source": [
    "### Fox metadata management\n",
    "*Last Updated: 14 Dec. 2018*\n",
    "\n",
    "Miscellaneous scripts for cleaning up Fox slide metadata (Erin's slides)."
   ]
  },
  {
   "cell_type": "code",
   "execution_count": 13,
   "metadata": {},
   "outputs": [],
   "source": [
    "# Put all imports here.\n",
    "import girder_client\n",
    "from pprint import pprint"
   ]
  },
  {
   "cell_type": "code",
   "execution_count": 5,
   "metadata": {},
   "outputs": [
    {
     "name": "stdout",
     "output_type": "stream",
     "text": [
      "Login or email: admin\n",
      "Password for admin: ········\n"
     ]
    }
   ],
   "source": [
    "# Log in to server of interest (computablebrain)\n",
    "apiUrl = \"http://computablebrain.emory.edu:8080/api/v1/\"\n",
    "gc = girder_client.GirderClient(apiUrl=apiUrl)\n",
    "gc.authenticate(interactive=True)"
   ]
  },
  {
   "cell_type": "code",
   "execution_count": 28,
   "metadata": {},
   "outputs": [],
   "source": [
    "# Get Fox data items, use a recurse get items call.\n",
    "getResourceUrl = \"resource/%s/items?type=%s&limit=%s&sort=_id&sortdir=1\"\n",
    "foxColId = \"5bad168fe62914001aa13f2d\"\n",
    "items = gc.getResource(getResourceUrl % (foxColId,\"collection\",50000))"
   ]
  },
  {
   "cell_type": "markdown",
   "metadata": {},
   "source": [
    "#### Add the group metadata tag\n",
    "For all items make sure the metadata is nested under the groups metadata tag."
   ]
  },
  {
   "cell_type": "code",
   "execution_count": 29,
   "metadata": {},
   "outputs": [],
   "source": [
    "# define the keys in groups.\n",
    "keys = ['BrainID','Column','Hemi','Section','Stain','StainDate']\n",
    "\n",
    "for item in items:\n",
    "    if not item['name'].endswith(('.svs','ndpi')):\n",
    "        continue # skip item without tiled image extension\n",
    "    try: # get the metadata if it exists.\n",
    "        meta = item['meta'].copy()\n",
    "    except:\n",
    "        meta = dict()\n",
    "    if 'groups' not in meta:\n",
    "        # Add the groups metadata.\n",
    "        # Add blank entries if not found outside groups.\n",
    "        groups = dict()\n",
    "        for key in keys:\n",
    "            if key in meta:\n",
    "                groups[key] = meta[key]\n",
    "            else:\n",
    "                groups[key] = ''\n",
    "        ############# COMMENT THIS LINE IF YOU WISH TO AVOID PUSHING METADATA ##########################\n",
    "        gc.addMetadataToItem(item['_id'], {'groups':groups})"
   ]
  }
 ],
 "metadata": {
  "kernelspec": {
   "display_name": "Python [conda root]",
   "language": "python",
   "name": "conda-root-py"
  },
  "language_info": {
   "codemirror_mode": {
    "name": "ipython",
    "version": 3
   },
   "file_extension": ".py",
   "mimetype": "text/x-python",
   "name": "python",
   "nbconvert_exporter": "python",
   "pygments_lexer": "ipython3",
   "version": "3.6.3"
  }
 },
 "nbformat": 4,
 "nbformat_minor": 2
}
