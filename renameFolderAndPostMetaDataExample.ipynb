{
 "cells": [
  {
   "cell_type": "code",
   "execution_count": 12,
   "metadata": {
    "collapsed": false
   },
   "outputs": [
    {
     "name": "stdout",
     "output_type": "stream",
     "text": [
      "Login or email: admin\n",
      "Password for admin: ········\n"
     ]
    }
   ],
   "source": [
    "##create Virtual Folder Structure...\n",
    "import girder_client\n",
    "from utils import recurseGetResource\n",
    "import json\n",
    "import pprint\n",
    "API_URL = \"http://digitalslidearchive.emory.edu:8080/api/v1/\"\n",
    "\n",
    "gc = girder_client.GirderClient(apiUrl=API_URL)\n",
    "gc.authenticate(interactive=True)"
   ]
  },
  {
   "cell_type": "code",
   "execution_count": 18,
   "metadata": {
    "collapsed": false
   },
   "outputs": [
    {
     "data": {
      "text/plain": [
       "{u'_accessLevel': 2,\n",
       " u'_id': u'596e3c4b92ca9a000b2af784',\n",
       " u'_modelType': u'folder',\n",
       " u'baseParentId': u'596e3a4a92ca9a000b2af2a7',\n",
       " u'baseParentType': u'collection',\n",
       " u'created': u'2017-07-18T16:50:19.664000+00:00',\n",
       " u'creatorId': u'596e36eb92ca9a000b81da75',\n",
       " u'description': u'',\n",
       " u'name': u'OS01-10',\n",
       " u'parentCollection': u'folder',\n",
       " u'parentId': u'596e3b1492ca9a000b2af2b4',\n",
       " u'public': False,\n",
       " u'publicFlags': [],\n",
       " u'size': 0,\n",
       " u'updated': u'2018-03-26T20:33:31.243205+00:00'}"
      ]
     },
     "execution_count": 18,
     "metadata": {},
     "output_type": "execute_result"
    }
   ],
   "source": [
    "import json\n",
    "folderID = '596e3c4b92ca9a000b2af784'\n",
    "\n",
    "\n",
    "newFolderName = 'OS01-10'\n",
    "oldFolderName = 'ADRC51-10'\n",
    "\n",
    "myMetaData = { \"metadata\": {\"oldFolderName\": oldFolderName}}\n",
    "gc.put('/folder/%s?name=%s' % (folderID,newFolderName), json=myMetaData)\n",
    "## TO DO.. GET THE METADATA PART WORKING!\n"
   ]
  }
 ],
 "metadata": {
  "kernelspec": {
   "display_name": "Python 2",
   "language": "python",
   "name": "python2"
  }
 },
 "nbformat": 4,
 "nbformat_minor": 2
}
