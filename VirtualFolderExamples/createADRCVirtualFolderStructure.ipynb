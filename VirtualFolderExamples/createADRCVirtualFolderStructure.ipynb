{
 "cells": [
  {
   "cell_type": "markdown",
   "metadata": {},
   "source": [
    "Winship Project, generate biomarkerId tag from label tag."
   ]
  },
  {
   "cell_type": "code",
   "execution_count": 43,
   "metadata": {},
   "outputs": [
    {
     "name": "stdout",
     "output_type": "stream",
     "text": [
      "Login or email: admin\n",
      "Password for admin: ········\n"
     ]
    }
   ],
   "source": [
    "import girder_client\n",
    "\n",
    "apiUrl = \"http://winship.digitalslidearchive.emory.edu:8080/api/v1\"\n",
    "gc = girder_client.GirderClient(apiUrl=apiUrl)\n",
    "gc.authenticate(interactive=True)"
   ]
  },
  {
   "cell_type": "code",
   "execution_count": 51,
   "metadata": {},
   "outputs": [],
   "source": [
    "collectionId = '5b88a29fe629140099a09c32'\n",
    "import re\n",
    "regexFormat = re.compile('^(?P<biobankId>EUH(-|_)\\d{1,4})_*')\n",
    "\n",
    "biobankIds = set()\n",
    "# Get folders in collection.\n",
    "for fld in gc.listFolder(collectionId):\n",
    "    # Get the items in each folder. \n",
    "    for item in gc.listItem(fld['_id']):\n",
    "        if 'meta' in item and 'label' in item['meta']:\n",
    "            # biobankId is a subset of the label, regex to capture it.\n",
    "            label = item['m eta']['label']\n",
    "            m = regexFormat.search(label)\n",
    "            if m:\n",
    "                m = m.groupdict()\n",
    "                m['biobankId'] = m['biobankId'].replace('_','-')\n",
    "                gc.addMetadataToItem(item['_id'], m) # Push biobankId metadata.\n",
    "                biobankIds.add(m['biobankId'])"
   ]
  },
  {
   "cell_type": "code",
   "execution_count": 54,
   "metadata": {},
   "outputs": [],
   "source": [
    "import json\n",
    "virtualFolderId = '5bc66055e629140099673c0d'\n",
    "baseFolderId = '5bc66055e629140099673c0d'\n",
    " \n",
    "for _id in biobankIds:\n",
    "    params = { \n",
    "        \"parentType\":    \"folder\",\n",
    "        \"parentId\":    virtualFolderId,\n",
    "        \"reuseExisting\":     True, \n",
    "        \"name\":            _id,\n",
    "        \"description\":     _id,\n",
    "        \"isVirtual\":         True,\n",
    "        \"virtualItemsQuery\": json.dumps({\"meta.biobankId\": _id, \n",
    "                                        'baseParentId': {\"$oid\": baseFolderId}})}\n",
    "    gc.post(\"folder\", parameters=params)"
   ]
  }
 ],
 "metadata": {
  "kernelspec": {
   "display_name": "Python [conda root]",
   "language": "python",
   "name": "conda-root-py"
  },
  "language_info": {
   "codemirror_mode": {
    "name": "ipython",
    "version": 3
   },
   "file_extension": ".py",
   "mimetype": "text/x-python",
   "name": "python",
   "nbconvert_exporter": "python",
   "pygments_lexer": "ipython3",
   "version": "3.6.3"
  }
 },
 "nbformat": 4,
 "nbformat_minor": 2
}
