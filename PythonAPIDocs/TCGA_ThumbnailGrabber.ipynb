{
 "cells": [
  {
   "cell_type": "code",
   "execution_count": 1,
   "metadata": {
    "collapsed": true
   },
   "outputs": [],
   "source": [
    "import girder_client as gc\n",
    "from pprint import pprint\n",
    "import sys, os\n",
    "from IPython.display import Image\n",
    "\n",
    "dsaGC = gc.GirderClient(apiUrl=\"http://candygram.neurology.emory.edu:8080/api/v1\")"
   ]
  },
  {
   "cell_type": "code",
   "execution_count": 13,
   "metadata": {
    "collapsed": true
   },
   "outputs": [],
   "source": [
    "##going to use some of the special tcga endpoints to make my life a little easier\n",
    "## This gets a list of all available cancer types along with the ID of the cohort which I'll then use\n",
    "## to grab some slide images\n",
    "TCGACohortList = dsaGC.get('/tcga/cohort')\n",
    "cohortData = {}\n",
    "for x in  TCGACohortList['data']:\n",
    "    cohortData[x['lowerName']] = { '_id': x['_id'], 'lowerName': x['lowerName']}"
   ]
  },
  {
   "cell_type": "code",
   "execution_count": 19,
   "metadata": {},
   "outputs": [
    {
     "name": "stdout",
     "output_type": "stream",
     "text": [
      "10\n"
     ]
    }
   ],
   "source": [
    "## Let's get the gbm cohort and then grab the first image\n",
    "gbmImageSet = dsaGC.get('/tcga/cohort/%s/images?limit=10' % cohortData['gbm']['_id'])\n",
    "print len( gbmImageSet['data'] )  ## Great I got data on 10 slides..."
   ]
  },
  {
   "cell_type": "code",
   "execution_count": 22,
   "metadata": {},
   "outputs": [
    {
     "data": {
      "image/jpeg": "[encoded data removed]",
      "text/plain": [
       "<IPython.core.display.Image object>"
      ]
     },
     "execution_count": 22,
     "metadata": {},
     "output_type": "execute_result"
    }
   ],
   "source": [
    "### Example of where I download a single image but before that I also render it in the viewer\n",
    "# this will grab the first TCGA GBM image I found\n",
    "sampleItemToGrab = gbmImageSet['data'][4]\n",
    "imgWidth = 256\n",
    "\n",
    "curImageMacroUrl = '/item/%s/tiles/thumbnail?width=%s' % (sampleItemToGrab['_id'],imgWidth)\n",
    "curImage = dsaGC.get(curImageMacroUrl,  jsonResp=False)        \n",
    "\n",
    "\n",
    "with open(\"./sampleImage.jpg\",\"wb\") as fp:\n",
    "    fp.write(curImage.content)\n",
    "\n",
    "Image(curImage.content)"
   ]
  },
  {
   "cell_type": "code",
   "execution_count": null,
   "metadata": {
    "collapsed": true
   },
   "outputs": [],
   "source": [
    "class LinePrinter():\n",
    "    \"\"\"\n",
    "    Print things to stdout on one line dynamically\n",
    "    \"\"\"\n",
    "    def __init__(self,data):\n",
    "        sys.stdout.write(\"\\r\\x1b[K\"+data.__str__())\n",
    "        sys.stdout.flush()"
   ]
  },
  {
   "cell_type": "code",
   "execution_count": 4,
   "metadata": {
    "collapsed": true
   },
   "outputs": [],
   "source": []
  },
  {
   "cell_type": "code",
   "execution_count": null,
   "metadata": {
    "collapsed": true
   },
   "outputs": [],
   "source": []
  },
  {
   "cell_type": "code",
   "execution_count": null,
   "metadata": {},
   "outputs": [],
   "source": [
    "## get the cases for the cohort\n",
    "dxSlidesFound = totalSlidesFound = collsProcessed = slidesOnDisk = cohortsProcessed = 0\n",
    "\n",
    "for cohort,data in cohortData.iteritems():\n",
    "    slideList = dsaGC.get('/tcga/cohort/%s/images?&limit=9000' % data['_id'])\n",
    "    ## I only want to get images that end in DX1 for now\n",
    "    cohortsProcessed+=1 \n",
    "    dxSlidesForCohort = []\n",
    "    \n",
    "    for sld in slideList['data']:\n",
    "        totalSlidesFound +=1\n",
    "        \n",
    "        if 'DX1' in sld['tcga']['barcode']:\n",
    "            dxSlidesFound +=1\n",
    "            dxSlidesForCohort.append(sld)\n",
    "        else:\n",
    "            pass\n",
    "        cohortData[cohort]['dxCaseList'] = dxSlidesForCohort\n",
    "        \n",
    "    ## This returns a list of slides, but also has a ton of properties that can get confusing for non experts\n",
    "    #print len(slideList.data)\n",
    "    LinePrinter( \"Processed Cohort %d/%d: %d slides, and found %d slides\" % (cohortsProcessed, len(cohortData),totalSlidesFound, dxSlidesFound))"
   ]
  },
  {
   "cell_type": "code",
   "execution_count": null,
   "metadata": {},
   "outputs": [],
   "source": [
    "cohortData['gbm']['dxCaseList'][0:10]"
   ]
  },
  {
   "cell_type": "code",
   "execution_count": null,
   "metadata": {},
   "outputs": [],
   "source": [
    "print len( cohortData['gbm']['dxCaseList'])\n",
    "\n",
    "macroImageRootPath = '/home/dagutman/Documents/tcga_imgs/macro_thumbnails/'\n",
    "\n",
    "imgWidth = 256\n",
    "slidesProcessed = slidesDownloaded = 0\n",
    "\n",
    "\n",
    "for cohort,data in cohortData.iteritems():\n",
    "    try:\n",
    "        slideSet = data['dxCaseList']\n",
    "    except:\n",
    "        print \"Cant find case list??\"\n",
    "        print data\n",
    "        \n",
    "    for sld in slideSet:\n",
    "        slidesProcessed +=1 \n",
    "\n",
    "        ##filename will have the word macro.thumb.width\n",
    "        outputPath = os.path.join(macroImageRootPath,cohort)\n",
    "        if not os.path.isdir(outputPath):\n",
    "            os.makedirs(outputPath)\n",
    "        outputFile = os.path.join(outputPath,sld['name']+'.macro.thumb.%d.jpeg' % imgWidth)\n",
    "\n",
    "        if not os.path.isfile(outputFile):\n",
    "            curImageMacroUrl = '/item/%s/tiles/thumbnail?width=%s' % (sld['_id'],imgWidth)\n",
    "            curImage = dsaGC.get(curImageMacroUrl,  jsonResp=False)        \n",
    "            with open(outputFile,\"wb\") as fp:\n",
    "                fp.write(curImage.content)\n",
    "            slidesDownloaded +=1\n",
    "        \n",
    "        LinePrinter(\"You have processed %d files and just downloaded %d\" % (slidesProcessed,slidesDownloaded))"
   ]
  },
  {
   "cell_type": "code",
   "execution_count": null,
   "metadata": {
    "collapsed": true
   },
   "outputs": [],
   "source": [
    "## Copy Data to Training/Testing/Validation Directory\n",
    "import shutil\n",
    "import random\n",
    "import math\n",
    "import glob\n",
    "## Dare I use a HARD LINK??\n",
    "\n",
    "def copyDataCohort( imgList, baseTargetDir, trainProportion=0.75,validationProportion=0.05,testingProportion=0.2,emptyTargetDir = True):\n",
    "    random.shuffle(imgList)\n",
    "    \n",
    "    train = []\n",
    "    test = []\n",
    "    validate = []\n",
    "    for i in imgList:\n",
    "        rnd = random.random()\n",
    "        \n",
    "        if rnd < trainProportion:\n",
    "            train.append(i)\n",
    "        elif (rnd >= trainProportion  and rnd < (trainProportion + validationProportion) ):\n",
    "            validate.append(i)\n",
    "        else:\n",
    "            test.append(i)\n",
    "    \n",
    "    ## Now copy the training/testing and validation data\n",
    "    for i in train:\n",
    "        td = os.path.join(baseTargetDir,'train')\n",
    "        if not os.path.isdir(td):\n",
    "            os.makedirs(td)\n",
    "        shutil.copy2(i,td)\n",
    "    ## Now copy the images print len(test),len(train),len(validate)"
   ]
  },
  {
   "cell_type": "code",
   "execution_count": null,
   "metadata": {
    "collapsed": true
   },
   "outputs": [],
   "source": [
    "# blcaImgSet = glob.glob(macroImageRootPath+'blca/*.jpeg')\n",
    "\n",
    "# tgtDir = '/home/dagutman/Documents/tcga_imgs/dataSetsForDL/'\n",
    "\n",
    "# copyDataCohort(blcaImgSet,tgtDir+'blca')"
   ]
  }
 ],
 "metadata": {
  "kernelspec": {
   "display_name": "Python 2",
   "language": "python",
   "name": "python2"
  },
  "language_info": {
   "codemirror_mode": {
    "name": "ipython",
    "version": 2
   },
   "file_extension": ".py",
   "mimetype": "text/x-python",
   "name": "python",
   "nbconvert_exporter": "python",
   "pygments_lexer": "ipython2",
   "version": "2.7.13"
  }
 },
 "nbformat": 4,
 "nbformat_minor": 2
}
